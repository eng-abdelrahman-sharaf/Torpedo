{
 "cells": [
  {
   "cell_type": "code",
   "execution_count": 44,
   "metadata": {},
   "outputs": [],
   "source": [
    "import cv2 as cv\n",
    "import numpy as np\n",
    "import matplotlib.pyplot as plt"
   ]
  },
  {
   "cell_type": "markdown",
   "metadata": {},
   "source": [
    "# Testing functions"
   ]
  },
  {
   "cell_type": "code",
   "execution_count": 45,
   "metadata": {},
   "outputs": [],
   "source": [
    "def compare_2images(original , processed):\n",
    "    fig= plt.figure(figsize=(10,20))\n",
    "    plt.subplot(121)\n",
    "    plt.imshow(original, cmap='gray')\n",
    "    plt.axis('off')\n",
    "    plt.title(\"orignal\")\n",
    "    \n",
    "    plt.subplot(122)\n",
    "    plt.imshow(processed, cmap='gray')\n",
    "    plt.axis('off')\n",
    "    plt.title(\"after processing\")\n",
    "    plt.show()    \n",
    "\n",
    "\n",
    "def try_all_images(func):\n",
    "    images = [\n",
    "        \"frame1.png\",\n",
    "        \"frame2.png\",\n",
    "        \"frame3.png\",\n",
    "        \"original.png\",\n",
    "        \"real.jpg\",\n",
    "        \"real2.jpg\",\n",
    "        \"real3.jpg\",\n",
    "        \"real4.png\",\n",
    "    ]\n",
    "\n",
    "    for image in images:\n",
    "        img = cv.imread(\"./shapes/\"+image)\n",
    "        compare_2images( img, func(img))"
   ]
  }
 ],
 "metadata": {
  "kernelspec": {
   "display_name": "shape-detection",
   "language": "python",
   "name": "python3"
  },
  "language_info": {
   "codemirror_mode": {
    "name": "ipython",
    "version": 3
   },
   "file_extension": ".py",
   "mimetype": "text/x-python",
   "name": "python",
   "nbconvert_exporter": "python",
   "pygments_lexer": "ipython3",
   "version": "3.12.4"
  }
 },
 "nbformat": 4,
 "nbformat_minor": 2
}
