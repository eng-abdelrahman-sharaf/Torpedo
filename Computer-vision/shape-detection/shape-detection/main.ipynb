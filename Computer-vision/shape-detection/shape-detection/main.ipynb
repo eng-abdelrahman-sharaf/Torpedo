{
 "cells": [
  {
   "cell_type": "code",
   "execution_count": 254,
   "metadata": {},
   "outputs": [],
   "source": [
    "import cv2 as cv\n",
    "import numpy as np\n",
    "import matplotlib.pyplot as plt"
   ]
  },
  {
   "cell_type": "markdown",
   "metadata": {},
   "source": [
    "# Testing functions"
   ]
  },
  {
   "cell_type": "code",
   "execution_count": 255,
   "metadata": {},
   "outputs": [],
   "source": [
    "def compare_2images(original , processed):\n",
    "    plt.figure(figsize=(10,20))\n",
    "\n",
    "    plt.subplot(121)\n",
    "    plt.imshow(original, cmap='gray')\n",
    "    plt.axis('off')\n",
    "    plt.title(\"orignal\")\n",
    "    \n",
    "    plt.subplot(122)\n",
    "    plt.imshow(processed, cmap='gray')\n",
    "    plt.axis('off')\n",
    "    plt.title(\"after processing\")\n",
    "    plt.show()    \n",
    "\n",
    "\n",
    "def try_all_images(func , process):\n",
    "    images = [\n",
    "        \"frame1.png\",\n",
    "        \"frame2.png\",\n",
    "        \"frame3.png\",\n",
    "        \"original.png\",\n",
    "        \"real.jpg\",\n",
    "        \"real2.jpg\",\n",
    "        \"real3.jpg\",\n",
    "        \"real4.png\",\n",
    "    ]\n",
    "\n",
    "    for image in images:\n",
    "        img = cv.imread(\"./shapes/\"+image)\n",
    "        # # for fast testing\n",
    "        # cv.imwrite(f\"./shapes/{process}/\"+image, func(img))\n",
    "        compare_2images(img , func(img))"
   ]
  },
  {
   "cell_type": "markdown",
   "metadata": {},
   "source": [
    "# Trying different gaussian Blurring "
   ]
  },
  {
   "cell_type": "code",
   "execution_count": 256,
   "metadata": {},
   "outputs": [],
   "source": [
    "def gaussian(img):\n",
    "    gaussian = cv.GaussianBlur( img, (3, 3), 0)\n",
    "    return gaussian"
   ]
  },
  {
   "cell_type": "code",
   "execution_count": null,
   "metadata": {},
   "outputs": [],
   "source": [
    "try_all_images(gaussian , \"gaussian\")"
   ]
  },
  {
   "cell_type": "markdown",
   "metadata": {},
   "source": [
    "# Trying threshold to detect black shapes ❌"
   ]
  },
  {
   "cell_type": "code",
   "execution_count": 258,
   "metadata": {},
   "outputs": [],
   "source": [
    "def threshold(img):\n",
    "    gray = cv.cvtColor(img, cv.COLOR_BGR2GRAY)\n",
    "    filtered = gaussian(gray)\n",
    "    _, thresh = cv.threshold(filtered, 110, 255, cv.THRESH_BINARY_INV)\n",
    "    return thresh"
   ]
  },
  {
   "cell_type": "code",
   "execution_count": null,
   "metadata": {},
   "outputs": [],
   "source": [
    "try_all_images(threshold , \"threshold\")"
   ]
  }
 ],
 "metadata": {
  "kernelspec": {
   "display_name": "shape-detection",
   "language": "python",
   "name": "python3"
  },
  "language_info": {
   "codemirror_mode": {
    "name": "ipython",
    "version": 3
   },
   "file_extension": ".py",
   "mimetype": "text/x-python",
   "name": "python",
   "nbconvert_exporter": "python",
   "pygments_lexer": "ipython3",
   "version": "3.12.4"
  }
 },
 "nbformat": 4,
 "nbformat_minor": 2
}
