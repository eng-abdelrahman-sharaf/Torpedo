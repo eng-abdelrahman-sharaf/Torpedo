{
 "cells": [
  {
   "cell_type": "code",
   "execution_count": 254,
   "metadata": {},
   "outputs": [],
   "source": [
    "import cv2 as cv\n",
    "import numpy as np\n",
    "import matplotlib.pyplot as plt"
   ]
  },
  {
   "cell_type": "markdown",
   "metadata": {},
   "source": [
    "# Testing functions"
   ]
  },
  {
   "cell_type": "code",
   "execution_count": 255,
   "metadata": {},
   "outputs": [],
   "source": [
    "def compare_2images(original , processed):\n",
    "    plt.figure(figsize=(10,20))\n",
    "\n",
    "    plt.subplot(121)\n",
    "    plt.imshow(original, cmap='gray')\n",
    "    plt.axis('off')\n",
    "    plt.title(\"orignal\")\n",
    "    \n",
    "    plt.subplot(122)\n",
    "    plt.imshow(processed, cmap='gray')\n",
    "    plt.axis('off')\n",
    "    plt.title(\"after processing\")\n",
    "    plt.show()    \n",
    "\n",
    "\n",
    "def try_all_images(func , process):\n",
    "    images = [\n",
    "        \"frame1.png\",\n",
    "        \"frame2.png\",\n",
    "        \"frame3.png\",\n",
    "        \"original.png\",\n",
    "        \"real.jpg\",\n",
    "        \"real2.jpg\",\n",
    "        \"real3.jpg\",\n",
    "        \"real4.png\",\n",
    "    ]\n",
    "\n",
    "    for image in images:\n",
    "        img = cv.imread(\"./shapes/\"+image)\n",
    "        # # for fast testing\n",
    "        # cv.imwrite(f\"./shapes/{process}/\"+image, func(img))\n",
    "        compare_2images(img , func(img))"
   ]
  },
  {
   "cell_type": "markdown",
   "metadata": {},
   "source": [
    "# Trying different gaussian Blurring "
   ]
  },
  {
   "cell_type": "code",
   "execution_count": 256,
   "metadata": {},
   "outputs": [],
   "source": [
    "def gaussian(img):\n",
    "    gaussian = cv.GaussianBlur( img, (3, 3), 0)\n",
    "    return gaussian"
   ]
  },
  {
   "cell_type": "code",
   "execution_count": null,
   "metadata": {},
   "outputs": [],
   "source": [
    "try_all_images(gaussian , \"gaussian\")"
   ]
  },
  {
   "cell_type": "markdown",
   "metadata": {},
   "source": [
    "# Trying threshold to detect black shapes ❌"
   ]
  },
  {
   "cell_type": "code",
   "execution_count": 258,
   "metadata": {},
   "outputs": [],
   "source": [
    "def threshold(img):\n",
    "    gray = cv.cvtColor(img, cv.COLOR_BGR2GRAY)\n",
    "    filtered = gaussian(gray)\n",
    "    _, thresh = cv.threshold(filtered, 110, 255, cv.THRESH_BINARY_INV)\n",
    "    return thresh"
   ]
  },
  {
   "cell_type": "code",
   "execution_count": null,
   "metadata": {},
   "outputs": [],
   "source": [
    "try_all_images(threshold , \"threshold\")"
   ]
  },
  {
   "cell_type": "markdown",
   "metadata": {},
   "source": [
    "# trying HSV color detection ❌"
   ]
  },
  {
   "cell_type": "markdown",
   "metadata": {},
   "source": [
    "### Defining initial values for h, s, v"
   ]
  },
  {
   "cell_type": "code",
   "execution_count": 260,
   "metadata": {},
   "outputs": [],
   "source": [
    "h1 = 0\n",
    "h2 = 360\n",
    "s1 = 0\n",
    "s2 = 255\n",
    "v1 = 0\n",
    "v2 = 10"
   ]
  },
  {
   "cell_type": "code",
   "execution_count": 261,
   "metadata": {},
   "outputs": [],
   "source": [
    "def black_only_mask(img):\n",
    "    img = cv.GaussianBlur(img, (5, 5), 0)\n",
    "    \n",
    "    hsv_image = cv.cvtColor(img, cv.COLOR_BGR2HSV)\n",
    "\n",
    "    lower_bound = np.array([h1 , s1, v1])\n",
    "    upper_bound = np.array([h2 , s2 , v2])\n",
    "\n",
    "    mask = cv.inRange(hsv_image, lower_bound, upper_bound)\n",
    "    mask = cv.bitwise_not(mask)\n",
    "    return mask"
   ]
  },
  {
   "cell_type": "markdown",
   "metadata": {},
   "source": [
    "### Tuning Global boundaries h, s ,v until reaching optimum solution"
   ]
  },
  {
   "cell_type": "code",
   "execution_count": 262,
   "metadata": {},
   "outputs": [],
   "source": [
    "h1 = 0\n",
    "h2 = 360\n",
    "s1 = 0\n",
    "s2 = 255\n",
    "v1 = 123\n",
    "v2 = 255"
   ]
  },
  {
   "cell_type": "code",
   "execution_count": null,
   "metadata": {},
   "outputs": [],
   "source": [
    "try_all_images(black_only_mask,  \"select_black_only\")"
   ]
  },
  {
   "cell_type": "markdown",
   "metadata": {},
   "source": [
    "# Tying Applying Canny"
   ]
  },
  {
   "cell_type": "code",
   "execution_count": 264,
   "metadata": {},
   "outputs": [],
   "source": [
    "# blurring helps to close the gaps between the edges\n",
    "\n",
    "def canny(img):\n",
    "    img = cv.GaussianBlur(img, (3, 3), 0)\n",
    "    gray = cv.cvtColor(img, cv.COLOR_BGR2GRAY)\n",
    "    gray = cv.blur(gray , (3 , 3) , 0)\n",
    "    # 30 and 20\n",
    "    canny_img = cv.Canny(gray, 40 , 80)\n",
    "    return cv.blur(canny_img , (3,3) , 0)\n"
   ]
  },
  {
   "cell_type": "code",
   "execution_count": null,
   "metadata": {},
   "outputs": [],
   "source": [
    "try_all_images(canny , \"canny\")"
   ]
  },
  {
   "cell_type": "markdown",
   "metadata": {},
   "source": [
    "# Trying Detecting Circles"
   ]
  },
  {
   "cell_type": "code",
   "execution_count": 266,
   "metadata": {},
   "outputs": [],
   "source": [
    "def detect_circles( img_to_detect , img_to_draw = None  ):\n",
    "    if(type(img_to_draw) == type(None)) : img_to_draw = img_to_detect.copy()\n",
    "    gray = cv.cvtColor(img_to_detect, cv.COLOR_BGR2GRAY)\n",
    "    filtered = cv.GaussianBlur(gray, (3, 3), 1)\n",
    "    circles = cv.HoughCircles(filtered, method=cv.HOUGH_GRADIENT, dp=1, minDist=20, \n",
    "                            param1=100, param2=22, minRadius=20, maxRadius=60)\n",
    "\n",
    "    if circles is not None:\n",
    "        circles = np.uint16(np.around(circles))\n",
    "\n",
    "        for i in circles[0, :]:\n",
    "            center = (i[0], i[1])\n",
    "            radius = i[2]\n",
    "            cv.circle(img_to_draw, center, radius, (255, 255, 0), 3)\n",
    "        \n",
    "    return img_to_draw\n"
   ]
  },
  {
   "cell_type": "code",
   "execution_count": null,
   "metadata": {},
   "outputs": [],
   "source": [
    "try_all_images(detect_circles , \"circles\")"
   ]
  }
 ],
 "metadata": {
  "kernelspec": {
   "display_name": "shape-detection",
   "language": "python",
   "name": "python3"
  },
  "language_info": {
   "codemirror_mode": {
    "name": "ipython",
    "version": 3
   },
   "file_extension": ".py",
   "mimetype": "text/x-python",
   "name": "python",
   "nbconvert_exporter": "python",
   "pygments_lexer": "ipython3",
   "version": "3.12.4"
  }
 },
 "nbformat": 4,
 "nbformat_minor": 2
}
