{
 "cells": [
  {
   "cell_type": "markdown",
   "metadata": {},
   "source": [
    "# imports"
   ]
  },
  {
   "cell_type": "code",
   "execution_count": 2,
   "metadata": {},
   "outputs": [],
   "source": [
    "import cv2 as cv \n",
    "import numpy as np\n",
    "import matplotlib.pyplot as plt"
   ]
  },
  {
   "cell_type": "markdown",
   "metadata": {},
   "source": [
    "# Defining initial values for h, s, v"
   ]
  },
  {
   "cell_type": "code",
   "execution_count": 3,
   "metadata": {},
   "outputs": [],
   "source": [
    "h1 = 0\n",
    "h2 = 360\n",
    "s1 = 0\n",
    "s2 = 10\n",
    "v1 = 245\n",
    "v2 = 255"
   ]
  },
  {
   "cell_type": "markdown",
   "metadata": {},
   "source": [
    "# Functions"
   ]
  },
  {
   "cell_type": "code",
   "execution_count": 4,
   "metadata": {},
   "outputs": [],
   "source": [
    "def Cards_only(image ):\n",
    "    hsv_image = cv.cvtColor(image, cv.COLOR_BGR2HSV)\n",
    "\n",
    "\n",
    "    lower_bound = np.array([h1 , s1, v1])\n",
    "    upper_bound = np.array([h2 , s2 , v2])\n",
    "\n",
    "    mask = cv.inRange(hsv_image, lower_bound, upper_bound)\n",
    "\n",
    "    masked_image= cv.bitwise_and(image, image, mask=mask)\n",
    "    \n",
    "    return masked_image"
   ]
  },
  {
   "cell_type": "markdown",
   "metadata": {},
   "source": [
    "# Loading Image"
   ]
  },
  {
   "cell_type": "code",
   "execution_count": 5,
   "metadata": {},
   "outputs": [],
   "source": [
    "img = cv.resize(cv.imread('./cards/9B6hJ.jpg') , (0,0), fx=0.3, fy=0.3)"
   ]
  },
  {
   "cell_type": "markdown",
   "metadata": {},
   "source": [
    "# Testing different methods of detecting white color"
   ]
  },
  {
   "cell_type": "code",
   "execution_count": 6,
   "metadata": {},
   "outputs": [],
   "source": [
    "# cv.imshow( \"original\", img)\n",
    "# cv.imshow( \"whiteOnly\", white_only(cv.GaussianBlur(img , (5,5) , 1)))\n",
    "# cv.imshow(\"med\" , cv.medianBlur(white_only(img) , 3))\n",
    "# cv.imshow(\"gaussian\" , cv.GaussianBlur(white_only(img) , (3,3) , 2))\n",
    "# cv.waitKey(0)\n",
    "# cv.destroyAllWindows()"
   ]
  },
  {
   "cell_type": "markdown",
   "metadata": {},
   "source": [
    "# Tuning Global boundaries h, s ,v until reaching optimum solution"
   ]
  },
  {
   "cell_type": "code",
   "execution_count": 7,
   "metadata": {},
   "outputs": [],
   "source": [
    "h1 = 0\n",
    "h2 = 360\n",
    "s1 = 0\n",
    "s2 = 25\n",
    "v1 = 150\n",
    "v2 = 255"
   ]
  },
  {
   "cell_type": "code",
   "execution_count": 8,
   "metadata": {},
   "outputs": [],
   "source": [
    "cards_only = cv.cvtColor(Cards_only(cv.GaussianBlur(img , (5,5) , 1)) , cv.COLOR_BGR2GRAY)\n",
    "result = img.copy()"
   ]
  },
  {
   "cell_type": "markdown",
   "metadata": {},
   "source": [
    "# Cards Detection"
   ]
  },
  {
   "cell_type": "code",
   "execution_count": 9,
   "metadata": {},
   "outputs": [
    {
     "name": "stdout",
     "output_type": "stream",
     "text": [
      "Number of contours 10\n"
     ]
    }
   ],
   "source": [
    "contours, _ = cv.findContours(cards_only, cv.RETR_EXTERNAL, cv.CHAIN_APPROX_NONE)\n",
    "\n",
    "\n",
    "print(f\"Number of contours {len(contours)}\")\n",
    "\n",
    "# cv.drawContours(result, contours, -1, (255, 0, 0), 3)\n",
    "# cv.imshow('original', img)\n",
    "# cv.imshow('contours', result)\n",
    "# cv.waitKey(0)\n",
    "# cv.destroyAllWindows()"
   ]
  },
  {
   "cell_type": "markdown",
   "metadata": {},
   "source": [
    "# Displaying Cards one by one"
   ]
  },
  {
   "cell_type": "code",
   "execution_count": null,
   "metadata": {},
   "outputs": [],
   "source": [
    "for contour in contours:\n",
    "\n",
    "    mask = np.zeros(img.shape[:2], np.uint8)\n",
    "    \n",
    "    cv.drawContours(mask, [contour],-1, 255, -1)\n",
    "\n",
    "    masked = cv.bitwise_and(img, img, mask=mask)\n",
    "\n",
    "    fig= plt.figure(figsize=(10,20))\n",
    "    plt.subplot(121)\n",
    "    plt.imshow(mask, cmap='gray')\n",
    "    plt.axis('off')\n",
    "    plt.title(\"mask\")\n",
    "    \n",
    "    plt.subplot(122)\n",
    "    plt.imshow(masked, cmap='gray')\n",
    "    plt.axis('off')\n",
    "    plt.title(\"masked\")\n",
    "    plt.show()    \n",
    "\n",
    "    "
   ]
  },
  {
   "cell_type": "code",
   "execution_count": null,
   "metadata": {},
   "outputs": [],
   "source": []
  }
 ],
 "metadata": {
  "kernelspec": {
   "display_name": "shape-detection",
   "language": "python",
   "name": "python3"
  },
  "language_info": {
   "codemirror_mode": {
    "name": "ipython",
    "version": 3
   },
   "file_extension": ".py",
   "mimetype": "text/x-python",
   "name": "python",
   "nbconvert_exporter": "python",
   "pygments_lexer": "ipython3",
   "version": "3.12.4"
  }
 },
 "nbformat": 4,
 "nbformat_minor": 2
}
