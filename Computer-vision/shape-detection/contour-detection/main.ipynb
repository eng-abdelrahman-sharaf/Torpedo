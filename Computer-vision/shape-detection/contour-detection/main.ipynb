{
 "cells": [
  {
   "cell_type": "markdown",
   "metadata": {},
   "source": [
    "# imports"
   ]
  },
  {
   "cell_type": "code",
   "execution_count": 85,
   "metadata": {},
   "outputs": [],
   "source": [
    "import cv2 as cv \n",
    "import numpy as np\n",
    "import matplotlib.pyplot as plt"
   ]
  },
  {
   "cell_type": "markdown",
   "metadata": {},
   "source": [
    "# Defining initial values for h, s, v"
   ]
  },
  {
   "cell_type": "code",
   "execution_count": 86,
   "metadata": {},
   "outputs": [],
   "source": [
    "h1 = 0\n",
    "h2 = 360\n",
    "s1 = 0\n",
    "s2 = 10\n",
    "v1 = 245\n",
    "v2 = 255"
   ]
  },
  {
   "cell_type": "markdown",
   "metadata": {},
   "source": [
    "# Functions"
   ]
  },
  {
   "cell_type": "code",
   "execution_count": 87,
   "metadata": {},
   "outputs": [],
   "source": [
    "def Cards_only(image ):\n",
    "    hsv_image = cv.cvtColor(image, cv.COLOR_BGR2HSV)\n",
    "\n",
    "\n",
    "    lower_bound = np.array([h1 , s1, v1])\n",
    "    upper_bound = np.array([h2 , s2 , v2])\n",
    "\n",
    "    mask = cv.inRange(hsv_image, lower_bound, upper_bound)\n",
    "\n",
    "    masked_image= cv.bitwise_and(image, image, mask=mask)\n",
    "    \n",
    "    return masked_image"
   ]
  },
  {
   "cell_type": "markdown",
   "metadata": {},
   "source": [
    "# Loading Image"
   ]
  },
  {
   "cell_type": "code",
   "execution_count": 88,
   "metadata": {},
   "outputs": [],
   "source": [
    "img = cv.resize(cv.imread('./cards/9B6hJ.jpg') , (0,0), fx=0.3, fy=0.3)"
   ]
  },
  {
   "cell_type": "markdown",
   "metadata": {},
   "source": [
    "# Testing different methods of detecting white color"
   ]
  },
  {
   "cell_type": "code",
   "execution_count": 89,
   "metadata": {},
   "outputs": [],
   "source": [
    "# cv.imshow( \"original\", img)\n",
    "# cv.imshow( \"whiteOnly\", white_only(cv.GaussianBlur(img , (5,5) , 1)))\n",
    "# cv.imshow(\"med\" , cv.medianBlur(white_only(img) , 3))\n",
    "# cv.imshow(\"gaussian\" , cv.GaussianBlur(white_only(img) , (3,3) , 2))\n",
    "# cv.waitKey(0)\n",
    "# cv.destroyAllWindows()"
   ]
  },
  {
   "cell_type": "markdown",
   "metadata": {},
   "source": [
    "# Tuning Global boundaries h, s ,v until reaching optimum solution"
   ]
  },
  {
   "cell_type": "code",
   "execution_count": 90,
   "metadata": {},
   "outputs": [],
   "source": [
    "h1 = 0\n",
    "h2 = 360\n",
    "s1 = 0\n",
    "s2 = 25\n",
    "v1 = 150\n",
    "v2 = 255"
   ]
  }
 ],
 "metadata": {
  "kernelspec": {
   "display_name": "shape-detection",
   "language": "python",
   "name": "python3"
  },
  "language_info": {
   "codemirror_mode": {
    "name": "ipython",
    "version": 3
   },
   "file_extension": ".py",
   "mimetype": "text/x-python",
   "name": "python",
   "nbconvert_exporter": "python",
   "pygments_lexer": "ipython3",
   "version": "3.12.4"
  }
 },
 "nbformat": 4,
 "nbformat_minor": 2
}
