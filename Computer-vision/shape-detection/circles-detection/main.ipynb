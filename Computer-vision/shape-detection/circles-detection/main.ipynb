{
 "cells": [
  {
   "cell_type": "code",
   "execution_count": 52,
   "metadata": {},
   "outputs": [],
   "source": [
    "import cv2 as cv\n",
    "import numpy as np"
   ]
  },
  {
   "cell_type": "code",
   "execution_count": 53,
   "metadata": {},
   "outputs": [],
   "source": [
    "def detect_circles( img , minDist, p1, p2 , min_r , max_r):\n",
    "    result = img.copy()\n",
    "    gray = cv.cvtColor(result, cv.COLOR_BGR2GRAY)\n",
    "    filtered = cv.GaussianBlur(gray, (5, 5), 1)\n",
    "    # cv.imshow(\"filtered\", filtered)\n",
    "    circles = cv.HoughCircles(filtered, method=cv.HOUGH_GRADIENT, dp=1, minDist=minDist, \n",
    "                            param1=p1, param2=p2, minRadius=min_r, maxRadius=max_r)\n",
    "\n",
    "    if circles is not None:\n",
    "        print(circles.shape)\n",
    "        print(circles)\n",
    "        circles = np.uint16(np.around(circles))\n",
    "\n",
    "        for i in circles[0, :]:\n",
    "            center = (i[0], i[1])\n",
    "            radius = i[2]\n",
    "            cv.circle(result, center, radius, (0, 255, 0), 3)\n",
    "        \n",
    "    return result\n",
    "    \n"
   ]
  },
  {
   "cell_type": "code",
   "execution_count": 54,
   "metadata": {},
   "outputs": [
    {
     "name": "stdout",
     "output_type": "stream",
     "text": [
      "(1, 2, 3)\n",
      "[[[147.5 126.5  34.9]\n",
      "  [469.5 126.5  33.8]]]\n"
     ]
    }
   ],
   "source": [
    "img = cv.imread(\"./circles/brown-eyes.jpg\")\n",
    "\n",
    "result = detect_circles(img, 10, 100, 30, 20, 40)\n",
    "\n",
    "cv.imshow(\"Circles\", result)\n",
    "cv.waitKey(0)\n",
    "cv.destroyAllWindows()"
   ]
  },
  {
   "cell_type": "code",
   "execution_count": 55,
   "metadata": {},
   "outputs": [
    {
     "name": "stdout",
     "output_type": "stream",
     "text": [
      "(1, 5, 3)\n",
      "[[[303.5 393.5  69.5]\n",
      "  [454.5 391.5  71.7]\n",
      "  [644.5 383.5  69.5]\n",
      "  [104.5 391.5  69.5]\n",
      "  [829.5 391.5  71.7]]]\n"
     ]
    }
   ],
   "source": [
    "img = cv.imread(\"./circles/Ronaldo.jpg\")\n",
    "\n",
    "result = detect_circles(cv.resize(img, (0, 0), fx=0.5, fy=0.5) , 20, 100, 40, 50, 80)\n",
    "\n",
    "cv.imshow(\"Ronaldo\", result)\n",
    "cv.waitKey(0)\n",
    "cv.destroyAllWindows()"
   ]
  },
  {
   "cell_type": "code",
   "execution_count": null,
   "metadata": {},
   "outputs": [],
   "source": []
  }
 ],
 "metadata": {
  "kernelspec": {
   "display_name": "shape-detection",
   "language": "python",
   "name": "python3"
  },
  "language_info": {
   "codemirror_mode": {
    "name": "ipython",
    "version": 3
   },
   "file_extension": ".py",
   "mimetype": "text/x-python",
   "name": "python",
   "nbconvert_exporter": "python",
   "pygments_lexer": "ipython3",
   "version": "3.12.4"
  }
 },
 "nbformat": 4,
 "nbformat_minor": 2
}
