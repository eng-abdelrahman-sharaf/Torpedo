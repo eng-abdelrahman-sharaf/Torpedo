{
 "cells": [
  {
   "cell_type": "code",
   "execution_count": 1,
   "metadata": {},
   "outputs": [],
   "source": [
    "import cv2 as cv\n",
    "import numpy as np"
   ]
  },
  {
   "cell_type": "code",
   "execution_count": 42,
   "metadata": {},
   "outputs": [
    {
     "name": "stdout",
     "output_type": "stream",
     "text": [
      "(1, 2, 3)\n",
      "[[[147.5 126.5  34.9]\n",
      "  [469.5 126.5  33.8]]]\n",
      "[[[148 126  35]\n",
      "  [470 126  34]]]\n"
     ]
    }
   ],
   "source": [
    "img = cv.imread(\"./circles/brown-eyes.jpg\")\n",
    "img_copy = img.copy()\n",
    "\n",
    "gray = cv.cvtColor(img_copy, cv.COLOR_BGR2GRAY)\n",
    "filtered = cv.GaussianBlur(gray, (5, 5), 1)\n",
    "cv.imshow(\"filtered\", filtered)\n",
    "circles = cv.HoughCircles(filtered, method=cv.HOUGH_GRADIENT, dp=1, minDist=10, \n",
    "                        param1=100, param2=30, minRadius=20, maxRadius=40)\n",
    "\n",
    "if circles is not None:\n",
    "    print(circles.shape)\n",
    "    print(circles)\n",
    "    circles = np.uint16(np.around(circles))\n",
    "    print(circles)\n",
    "\n",
    "    for i in circles[0, :]:\n",
    "        center = (i[0], i[1])\n",
    "        radius = i[2]\n",
    "        cv.circle(img_copy, center, radius, (0, 255, 0), 3)\n",
    "\n",
    "\n",
    "cv.imshow(\"Circles\", img_copy)\n",
    "cv.waitKey(0)\n",
    "cv.destroyAllWindows()"
   ]
  },
  {
   "cell_type": "code",
   "execution_count": 75,
   "metadata": {},
   "outputs": [
    {
     "name": "stdout",
     "output_type": "stream",
     "text": [
      "(1, 5, 3)\n",
      "[[[303.5 393.5  69.5]\n",
      "  [454.5 391.5  71.7]\n",
      "  [644.5 383.5  69.5]\n",
      "  [104.5 391.5  69.5]\n",
      "  [829.5 391.5  71.7]]]\n",
      "[[[304 394  70]\n",
      "  [454 392  72]\n",
      "  [644 384  70]\n",
      "  [104 392  70]\n",
      "  [830 392  72]]]\n"
     ]
    }
   ],
   "source": [
    "img = cv.imread(\"./circles/Ronaldo.jpg\")\n",
    "img_copy = img.copy()\n",
    "img_copy = cv.resize(img_copy, (0, 0), fx=0.5, fy=0.5)\n",
    "\n",
    "gray = cv.cvtColor(img_copy, cv.COLOR_BGR2GRAY)\n",
    "filtered = cv.GaussianBlur(gray, (5, 5), 1)\n",
    "cv.imshow(\"filtered\", filtered)\n",
    "circles = cv.HoughCircles(filtered, method=cv.HOUGH_GRADIENT, dp=1, minDist=20, \n",
    "                        param1=100, param2=40, minRadius=50, maxRadius=80)\n",
    "\n",
    "if circles is not None:\n",
    "    print(circles.shape)\n",
    "    print(circles)\n",
    "    circles = np.uint16(np.around(circles))\n",
    "    print(circles)\n",
    "\n",
    "    for i in circles[0, :]:\n",
    "        center = (i[0], i[1])\n",
    "        radius = i[2]\n",
    "        cv.circle(img_copy, center, radius, (0, 255, 0), 3)\n",
    "\n",
    "\n",
    "cv.imshow(\"Circles\", img_copy)\n",
    "cv.waitKey(0)\n",
    "cv.destroyAllWindows()"
   ]
  }
 ],
 "metadata": {
  "kernelspec": {
   "display_name": "shape-detection",
   "language": "python",
   "name": "python3"
  },
  "language_info": {
   "codemirror_mode": {
    "name": "ipython",
    "version": 3
   },
   "file_extension": ".py",
   "mimetype": "text/x-python",
   "name": "python",
   "nbconvert_exporter": "python",
   "pygments_lexer": "ipython3",
   "version": "3.12.4"
  }
 },
 "nbformat": 4,
 "nbformat_minor": 2
}
