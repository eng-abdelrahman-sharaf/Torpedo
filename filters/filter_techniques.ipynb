{
 "cells": [
  {
   "cell_type": "markdown",
   "metadata": {},
   "source": [
    "# Imports"
   ]
  },
  {
   "cell_type": "code",
   "execution_count": 11,
   "metadata": {},
   "outputs": [],
   "source": [
    "import cv2\n",
    "import numpy as np"
   ]
  },
  {
   "cell_type": "markdown",
   "metadata": {},
   "source": [
    "# Global Configs"
   ]
  },
  {
   "cell_type": "code",
   "execution_count": 12,
   "metadata": {},
   "outputs": [],
   "source": [
    "sharpen_factor = 1.45\n",
    "frames_delay = 300"
   ]
  },
  {
   "cell_type": "markdown",
   "metadata": {},
   "source": [
    "# Functions"
   ]
  },
  {
   "cell_type": "code",
   "execution_count": 13,
   "metadata": {},
   "outputs": [],
   "source": [
    "def sharpen(image):\n",
    "    \n",
    "    global sharpen_factor\n",
    "\n",
    "    sharp_kernel=np.array([\n",
    "                            [-sharpen_factor]*3,\n",
    "                            [-sharpen_factor,sharpen_factor*9,-sharpen_factor],\n",
    "                            [-sharpen_factor]*3,\n",
    "                        ])\n",
    "    sharpened_img=cv2.filter2D(image,-1,sharp_kernel)\n",
    "    return sharpened_img\n",
    "\n",
    "\n",
    "def orange_only(image ):\n",
    "    hsv_image = cv2.cvtColor(image, cv2.COLOR_BGR2HSV)\n",
    "\n",
    "    # orange = np.uint8([[[0, 165, 255]]])\n",
    "    # orange_hsv = cv2.cvtColor(orange, cv2.COLOR_BGR2HSV)\n",
    "    # orange_hue = orange_hsv[0][0][0]\n",
    "    \n",
    "    orange_hue = 10\n",
    "\n",
    "\n",
    "    lower_bound = np.array([orange_hue-20,100,100])\n",
    "    upper_bound = np.array([orange_hue+20,255,255])\n",
    "\n",
    "    mask = cv2.inRange(hsv_image, lower_bound, upper_bound)\n",
    "\n",
    "    masked_image= cv2.bitwise_and(image, image, mask=mask)\n",
    "    \n",
    "    return masked_image\n"
   ]
  },
  {
   "cell_type": "markdown",
   "metadata": {},
   "source": [
    "# Testing Orange Only Function"
   ]
  },
  {
   "cell_type": "code",
   "execution_count": 14,
   "metadata": {},
   "outputs": [],
   "source": [
    "# image = cv2.imread('./images/orange.png')\n",
    "# cv2.imshow('Original', image)\n",
    "# cv2.imshow('orange_only', orange_only(image))\n",
    "# if(cv2.waitKey(0) & 0xFF == 27):\n",
    "#     cv2.destroyAllWindows()"
   ]
  },
  {
   "cell_type": "code",
   "execution_count": null,
   "metadata": {},
   "outputs": [],
   "source": []
  },
  {
   "cell_type": "code",
   "execution_count": 15,
   "metadata": {},
   "outputs": [
    {
     "name": "stdout",
     "output_type": "stream",
     "text": [
      "-1\n",
      "-1\n",
      "-1\n",
      "-1\n",
      "-1\n",
      "-1\n",
      "-1\n",
      "-1\n",
      "-1\n",
      "-1\n",
      "-1\n",
      "-1\n",
      "-1\n",
      "-1\n",
      "-1\n",
      "-1\n",
      "-1\n",
      "-1\n",
      "-1\n",
      "-1\n",
      "-1\n",
      "-1\n",
      "-1\n",
      "-1\n",
      "-1\n",
      "-1\n",
      "-1\n",
      "-1\n",
      "-1\n",
      "-1\n",
      "-1\n",
      "-1\n",
      "-1\n",
      "-1\n",
      "-1\n",
      "-1\n",
      "-1\n",
      "-1\n",
      "-1\n",
      "-1\n",
      "-1\n",
      "-1\n",
      "-1\n",
      "-1\n",
      "-1\n",
      "-1\n",
      "-1\n",
      "-1\n",
      "-1\n",
      "-1\n",
      "-1\n",
      "-1\n",
      "-1\n",
      "-1\n",
      "27\n"
     ]
    }
   ],
   "source": [
    "video_path = \"./videos/sea.mp4\"\n",
    "\n",
    "cap = cv2.VideoCapture(video_path)  \n",
    "\n",
    "while True:\n",
    "    ret, frame = cap.read()\n",
    "\n",
    "    if not ret:\n",
    "       break\n",
    "\n",
    "    sharpened = sharpen(frame)\n",
    "\n",
    "    # cv2.imshow('video', frame)\n",
    "    cv2.imshow('sharpened', sharpened)\n",
    "    cv2.imshow('orange_only', orange_only(sharpened))\n",
    "\n",
    "    key = cv2.waitKey(100)\n",
    "    print(key)\n",
    "    if key & 0xFF == ord('s'):\n",
    "        cv2.imwrite('./images/frame.png', sharpened)\n",
    "        cv2.waitKey(0)\n",
    "\n",
    "    if key & 0xFF == 27:\n",
    "        break\n",
    "\n",
    "\n",
    "cap.release()\n",
    "\n",
    "cv2.destroyAllWindows()"
   ]
  }
 ],
 "metadata": {
  "kernelspec": {
   "display_name": "Python 3",
   "language": "python",
   "name": "python3"
  },
  "language_info": {
   "codemirror_mode": {
    "name": "ipython",
    "version": 3
   },
   "file_extension": ".py",
   "mimetype": "text/x-python",
   "name": "python",
   "nbconvert_exporter": "python",
   "pygments_lexer": "ipython3",
   "version": "3.12.4"
  }
 },
 "nbformat": 4,
 "nbformat_minor": 2
}
