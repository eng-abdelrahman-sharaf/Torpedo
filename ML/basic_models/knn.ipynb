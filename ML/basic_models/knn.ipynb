{
 "cells": [
  {
   "cell_type": "markdown",
   "metadata": {},
   "source": [
    "### The best model for predicting iris species from the iris dataset according to its accuracy"
   ]
  },
  {
   "cell_type": "markdown",
   "metadata": {},
   "source": [
    "# imports"
   ]
  },
  {
   "cell_type": "code",
   "execution_count": 38,
   "metadata": {},
   "outputs": [],
   "source": [
    "from sklearn.model_selection import train_test_split\n",
    "from sklearn.neighbors import KNeighborsClassifier\n",
    "from sklearn.metrics import accuracy_score\n",
    "import matplotlib.pyplot as plt\n",
    "from sklearn.datasets import load_iris\n",
    "from sklearn.model_selection import GridSearchCV\n",
    "from matplotlib.colors import ListedColormap\n",
    "import numpy as np"
   ]
  },
  {
   "cell_type": "markdown",
   "metadata": {},
   "source": [
    "# Loading The Dataset and splitting it into training and testing sets"
   ]
  },
  {
   "cell_type": "code",
   "execution_count": 39,
   "metadata": {},
   "outputs": [],
   "source": [
    "# Load dataset\n",
    "data = load_iris()\n",
    "X = data.data[:, 2:]  # Use only the last two features for visualization\n",
    "real_X = data.data\n",
    "y = data.target\n",
    "\n",
    "# Split the dataset into training and testing sets\n",
    "# We use real_X to decide the best model\n",
    "real_X_train, real_X_test, y_train, y_test = train_test_split(real_X, y, test_size=0.2, random_state=42)\n",
    "X_train  = real_X_train[:, 2:]\n",
    "X_test = real_X_test[:, 2:]"
   ]
  },
  {
   "cell_type": "code",
   "execution_count": 40,
   "metadata": {},
   "outputs": [],
   "source": [
    "# different metrics to use for KNN\n",
    "metrics = ['euclidean', 'manhattan', 'minkowski', 'chebyshev', 'cosine']\n",
    "\n",
    "# Test different values of k\n",
    "k_values = range(1, 21)\n",
    "\n",
    "# Store the different models for each metric\n",
    "metrics_models = []"
   ]
  },
  {
   "cell_type": "markdown",
   "metadata": {},
   "source": [
    "# Tuning Hyper Parameters"
   ]
  },
  {
   "cell_type": "code",
   "execution_count": 41,
   "metadata": {},
   "outputs": [
    {
     "name": "stdout",
     "output_type": "stream",
     "text": [
      "k=1 metric=euclidean p=2 accuracy=1.0\n",
      "k=2 metric=euclidean p=2 accuracy=0.9666666666666667\n",
      "k=3 metric=euclidean p=2 accuracy=1.0\n",
      "k=4 metric=euclidean p=2 accuracy=1.0\n",
      "k=5 metric=euclidean p=2 accuracy=1.0\n",
      "k=6 metric=euclidean p=2 accuracy=1.0\n",
      "k=7 metric=euclidean p=2 accuracy=1.0\n",
      "k=8 metric=euclidean p=2 accuracy=1.0\n",
      "k=9 metric=euclidean p=2 accuracy=1.0\n",
      "k=10 metric=euclidean p=2 accuracy=1.0\n",
      "k=11 metric=euclidean p=2 accuracy=1.0\n",
      "k=12 metric=euclidean p=2 accuracy=1.0\n",
      "k=13 metric=euclidean p=2 accuracy=1.0\n",
      "k=14 metric=euclidean p=2 accuracy=1.0\n",
      "k=15 metric=euclidean p=2 accuracy=1.0\n",
      "k=16 metric=euclidean p=2 accuracy=1.0\n",
      "k=17 metric=euclidean p=2 accuracy=1.0\n",
      "k=18 metric=euclidean p=2 accuracy=1.0\n",
      "k=19 metric=euclidean p=2 accuracy=1.0\n",
      "k=20 metric=euclidean p=2 accuracy=1.0\n",
      "k=1 metric=manhattan p=2 accuracy=1.0\n",
      "k=2 metric=manhattan p=2 accuracy=0.9666666666666667\n",
      "k=3 metric=manhattan p=2 accuracy=1.0\n",
      "k=4 metric=manhattan p=2 accuracy=1.0\n",
      "k=5 metric=manhattan p=2 accuracy=1.0\n",
      "k=6 metric=manhattan p=2 accuracy=1.0\n",
      "k=7 metric=manhattan p=2 accuracy=1.0\n",
      "k=8 metric=manhattan p=2 accuracy=1.0\n",
      "k=9 metric=manhattan p=2 accuracy=1.0\n",
      "k=10 metric=manhattan p=2 accuracy=1.0\n",
      "k=11 metric=manhattan p=2 accuracy=1.0\n",
      "k=12 metric=manhattan p=2 accuracy=1.0\n",
      "k=13 metric=manhattan p=2 accuracy=1.0\n",
      "k=14 metric=manhattan p=2 accuracy=1.0\n",
      "k=15 metric=manhattan p=2 accuracy=1.0\n",
      "k=16 metric=manhattan p=2 accuracy=1.0\n",
      "k=17 metric=manhattan p=2 accuracy=1.0\n",
      "k=18 metric=manhattan p=2 accuracy=1.0\n",
      "k=19 metric=manhattan p=2 accuracy=1.0\n",
      "k=20 metric=manhattan p=2 accuracy=1.0\n",
      "k=1 metric=minkowski p=3 accuracy=1.0\n",
      "k=2 metric=minkowski p=3 accuracy=0.9666666666666667\n",
      "k=3 metric=minkowski p=3 accuracy=1.0\n",
      "k=4 metric=minkowski p=3 accuracy=1.0\n",
      "k=5 metric=minkowski p=3 accuracy=1.0\n",
      "k=6 metric=minkowski p=3 accuracy=1.0\n",
      "k=7 metric=minkowski p=3 accuracy=1.0\n",
      "k=8 metric=minkowski p=3 accuracy=1.0\n",
      "k=9 metric=minkowski p=3 accuracy=1.0\n",
      "k=10 metric=minkowski p=3 accuracy=1.0\n",
      "k=11 metric=minkowski p=3 accuracy=1.0\n",
      "k=12 metric=minkowski p=3 accuracy=1.0\n",
      "k=13 metric=minkowski p=3 accuracy=1.0\n",
      "k=14 metric=minkowski p=3 accuracy=1.0\n",
      "k=15 metric=minkowski p=3 accuracy=1.0\n",
      "k=16 metric=minkowski p=3 accuracy=1.0\n",
      "k=17 metric=minkowski p=3 accuracy=1.0\n",
      "k=18 metric=minkowski p=3 accuracy=1.0\n",
      "k=19 metric=minkowski p=3 accuracy=1.0\n",
      "k=20 metric=minkowski p=3 accuracy=1.0\n",
      "k=1 metric=chebyshev p=2 accuracy=1.0\n",
      "k=2 metric=chebyshev p=2 accuracy=1.0\n",
      "k=3 metric=chebyshev p=2 accuracy=1.0\n",
      "k=4 metric=chebyshev p=2 accuracy=1.0\n",
      "k=5 metric=chebyshev p=2 accuracy=1.0\n",
      "k=6 metric=chebyshev p=2 accuracy=1.0\n",
      "k=7 metric=chebyshev p=2 accuracy=1.0\n",
      "k=8 metric=chebyshev p=2 accuracy=1.0\n",
      "k=9 metric=chebyshev p=2 accuracy=1.0\n",
      "k=10 metric=chebyshev p=2 accuracy=1.0\n",
      "k=11 metric=chebyshev p=2 accuracy=1.0\n",
      "k=12 metric=chebyshev p=2 accuracy=1.0\n",
      "k=13 metric=chebyshev p=2 accuracy=1.0\n",
      "k=14 metric=chebyshev p=2 accuracy=1.0\n",
      "k=15 metric=chebyshev p=2 accuracy=1.0\n",
      "k=16 metric=chebyshev p=2 accuracy=1.0\n",
      "k=17 metric=chebyshev p=2 accuracy=1.0\n",
      "k=18 metric=chebyshev p=2 accuracy=1.0\n",
      "k=19 metric=chebyshev p=2 accuracy=1.0\n",
      "k=20 metric=chebyshev p=2 accuracy=1.0\n",
      "k=1 metric=cosine p=2 accuracy=0.8\n",
      "k=2 metric=cosine p=2 accuracy=0.7666666666666667\n",
      "k=3 metric=cosine p=2 accuracy=0.8\n",
      "k=4 metric=cosine p=2 accuracy=0.8333333333333334\n",
      "k=5 metric=cosine p=2 accuracy=0.8666666666666667\n",
      "k=6 metric=cosine p=2 accuracy=0.8666666666666667\n",
      "k=7 metric=cosine p=2 accuracy=0.8666666666666667\n",
      "k=8 metric=cosine p=2 accuracy=0.8666666666666667\n",
      "k=9 metric=cosine p=2 accuracy=0.8333333333333334\n",
      "k=10 metric=cosine p=2 accuracy=0.8\n",
      "k=11 metric=cosine p=2 accuracy=0.8\n",
      "k=12 metric=cosine p=2 accuracy=0.8\n",
      "k=13 metric=cosine p=2 accuracy=0.8\n",
      "k=14 metric=cosine p=2 accuracy=0.8\n",
      "k=15 metric=cosine p=2 accuracy=0.8\n",
      "k=16 metric=cosine p=2 accuracy=0.8\n",
      "k=17 metric=cosine p=2 accuracy=0.8\n",
      "k=18 metric=cosine p=2 accuracy=0.8\n",
      "k=19 metric=cosine p=2 accuracy=0.8\n",
      "k=20 metric=cosine p=2 accuracy=0.8\n"
     ]
    }
   ],
   "source": [
    "max_accuracy_all = 0\n",
    "best_model_all = None\n",
    "\n",
    "for metric in metrics:\n",
    "    if metric == 'minkowski':\n",
    "        p = 3\n",
    "    else :\n",
    "        # default value for p\n",
    "        p = 2\n",
    "\n",
    "    max_accuracy = 0\n",
    "    best_model = None\n",
    "\n",
    "    for k in k_values:\n",
    "        knn = KNeighborsClassifier(n_neighbors=k , metric=metric, p=p)\n",
    "        knn.fit(X_train, y_train)\n",
    "        y_pred = knn.predict(X_test)\n",
    "        accuracy = accuracy_score(y_test, y_pred)\n",
    "        if ( accuracy > max_accuracy):\n",
    "            max_accuracy = accuracy\n",
    "            best_model = knn\n",
    "        print(f'k={k} metric={metric} p={p} accuracy={accuracy}')\n",
    "\n",
    "    if (max_accuracy > max_accuracy_all):\n",
    "        max_accuracy_all = max_accuracy\n",
    "        best_model_all = best_model"
   ]
  },
  {
   "cell_type": "code",
   "execution_count": 42,
   "metadata": {},
   "outputs": [
    {
     "name": "stdout",
     "output_type": "stream",
     "text": [
      "Best model: KNeighborsClassifier(metric='euclidean', n_neighbors=1) with accuracy: 1.0\n"
     ]
    }
   ],
   "source": [
    "print(f'Best model: {best_model_all} with accuracy: {max_accuracy_all}')"
   ]
  },
  {
   "cell_type": "markdown",
   "metadata": {},
   "source": [
    "# Tuning Hyper Parameters (Better Approach)"
   ]
  },
  {
   "cell_type": "code",
   "execution_count": 43,
   "metadata": {},
   "outputs": [
    {
     "name": "stdout",
     "output_type": "stream",
     "text": [
      "Best parameters found: {'metric': 'euclidean', 'n_neighbors': 1}\n",
      "Best cross-validation score: 0.9583333333333334\n",
      "Test set accuracy: 1.00\n"
     ]
    }
   ],
   "source": [
    "# Define the parameter grid (different parameters for the SVM model to be tested) \n",
    "param_grid = {\n",
    "    'n_neighbors': k_values,\n",
    "    'metric': metrics,\n",
    "}\n",
    "\n",
    "# Initialize the GridSearchCV\n",
    "grid_search = GridSearchCV(KNeighborsClassifier(), param_grid)\n",
    "\n",
    "# Fit Grid Search to the data and finding the best model\n",
    "grid_search.fit(X_train, y_train)\n",
    "\n",
    "# Get the best parameters and score\n",
    "print(\"Best parameters found:\", grid_search.best_params_)\n",
    "print(\"Best cross-validation score:\", grid_search.best_score_)\n",
    "\n",
    "# Evaluate on test set\n",
    "best_model = grid_search.best_estimator_\n",
    "y_pred = best_model.predict(X_test)\n",
    "accuracy = accuracy_score(y_test, y_pred)\n",
    "print(f\"Test set accuracy: {accuracy:.2f}\")"
   ]
  },
  {
   "cell_type": "markdown",
   "metadata": {},
   "source": [
    "# Real data training"
   ]
  },
  {
   "cell_type": "code",
   "execution_count": 44,
   "metadata": {},
   "outputs": [
    {
     "name": "stdout",
     "output_type": "stream",
     "text": [
      "Best parameters found: {'metric': 'cosine', 'n_neighbors': 3}\n",
      "Best cross-validation score: 0.9833333333333332\n",
      "Test set accuracy: 0.97\n"
     ]
    }
   ],
   "source": [
    "# Initialize the GridSearchCV\n",
    "grid_search = GridSearchCV(KNeighborsClassifier(), param_grid)\n",
    "\n",
    "# Fit Grid Search to the data and finding the best model\n",
    "grid_search.fit(real_X_train, y_train)\n",
    "\n",
    "# Get the best parameters and score\n",
    "print(\"Best parameters found:\", grid_search.best_params_)\n",
    "print(\"Best cross-validation score:\", grid_search.best_score_)\n",
    "\n",
    "# Evaluate on test set\n",
    "y_pred = grid_search.best_estimator_.predict(real_X_test)\n",
    "accuracy = accuracy_score(y_test, y_pred)\n",
    "print(f\"Test set accuracy: {accuracy:.2f}\")"
   ]
  },
  {
   "cell_type": "code",
   "execution_count": 45,
   "metadata": {},
   "outputs": [],
   "source": [
    "best_model_all = best_model"
   ]
  },
  {
   "cell_type": "markdown",
   "metadata": {},
   "source": [
    "# print unique target values"
   ]
  },
  {
   "cell_type": "code",
   "execution_count": 46,
   "metadata": {},
   "outputs": [
    {
     "name": "stdout",
     "output_type": "stream",
     "text": [
      "[0 1 2]\n"
     ]
    }
   ],
   "source": [
    "print(np.unique(y))"
   ]
  },
  {
   "cell_type": "markdown",
   "metadata": {},
   "source": [
    "# Let's Visualize the results"
   ]
  },
  {
   "cell_type": "code",
   "execution_count": 47,
   "metadata": {},
   "outputs": [
    {
     "data": {
      "image/png": "[encoded data removed]",
      "text/plain": [
       "<Figure size 640x480 with 1 Axes>"
      ]
     },
     "metadata": {},
     "output_type": "display_data"
    }
   ],
   "source": [
    "# Define the mesh grid\n",
    "x_min, x_max = X[:, 0].min() - 1, X[:, 0].max() + 1\n",
    "y_min, y_max = X[:, 1].min() - 1, X[:, 1].max() + 1\n",
    "\n",
    "# Create a mesh grid on which we will run our model\n",
    "all_x_values = np.arange(x_min, x_max, 0.02)\n",
    "all_y_values = np.arange(y_min, y_max, 0.02)\n",
    "xx, yy = np.meshgrid(all_x_values, all_y_values)\n",
    "\n",
    "# Predict the class for each point in the mesh grid and ignoring the first two features\n",
    "flattened_xx = xx.ravel()\n",
    "flattened_yy = yy.ravel()\n",
    "Z = best_model_all.predict(np.c_[flattened_xx, flattened_yy])\n",
    "Z = Z.reshape(xx.shape)\n",
    "\n",
    "# print(Z.value_counts())\n",
    "\n",
    "# Define colors for the plot\n",
    "cmap_background = ListedColormap(['#FFAAAA', '#AAFFAA', '#AAAAFF'])\n",
    "cmap_points = ListedColormap(['#FF0000', '#00FF00', '#0000FF'])\n",
    "\n",
    "# Plot the decision boundary\n",
    "plt.contourf(xx, yy, Z, alpha=0.3, cmap=cmap_background)\n",
    "plt.scatter(X[:, 0], X[:, 1], c=y, edgecolor='k', cmap=cmap_points)\n",
    "plt.xlabel('Feature 3')\n",
    "plt.ylabel('Feature 4')\n",
    "plt.title('KNN Decision Boundary')\n",
    "plt.show()"
   ]
  }
 ],
 "metadata": {
  "kernelspec": {
   "display_name": "Python 3",
   "language": "python",
   "name": "python3"
  },
  "language_info": {
   "codemirror_mode": {
    "name": "ipython",
    "version": 3
   },
   "file_extension": ".py",
   "mimetype": "text/x-python",
   "name": "python",
   "nbconvert_exporter": "python",
   "pygments_lexer": "ipython3",
   "version": "3.12.4"
  }
 },
 "nbformat": 4,
 "nbformat_minor": 2
}
