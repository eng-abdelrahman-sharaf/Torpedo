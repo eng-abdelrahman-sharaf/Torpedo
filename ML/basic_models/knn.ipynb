{
 "cells": [
  {
   "cell_type": "markdown",
   "metadata": {},
   "source": [
    "### The best model for predicting iris species from the iris dataset according to its accuracy"
   ]
  },
  {
   "cell_type": "markdown",
   "metadata": {},
   "source": [
    "# imports"
   ]
  },
  {
   "cell_type": "code",
   "execution_count": 38,
   "metadata": {},
   "outputs": [],
   "source": [
    "from sklearn.model_selection import train_test_split\n",
    "from sklearn.neighbors import KNeighborsClassifier\n",
    "from sklearn.metrics import accuracy_score\n",
    "import matplotlib.pyplot as plt\n",
    "from sklearn.datasets import load_iris\n",
    "from sklearn.model_selection import GridSearchCV\n",
    "from matplotlib.colors import ListedColormap\n",
    "import numpy as np"
   ]
  },
  {
   "cell_type": "markdown",
   "metadata": {},
   "source": [
    "# Loading The Dataset and splitting it into training and testing sets"
   ]
  },
  {
   "cell_type": "code",
   "execution_count": 39,
   "metadata": {},
   "outputs": [],
   "source": [
    "# Load dataset\n",
    "data = load_iris()\n",
    "X = data.data[:, 2:]  # Use only the last two features for visualization\n",
    "real_X = data.data\n",
    "y = data.target\n",
    "\n",
    "# Split the dataset into training and testing sets\n",
    "# We use real_X to decide the best model\n",
    "real_X_train, real_X_test, y_train, y_test = train_test_split(real_X, y, test_size=0.2, random_state=42)\n",
    "X_train  = real_X_train[:, 2:]\n",
    "X_test = real_X_test[:, 2:]"
   ]
  },
  {
   "cell_type": "code",
   "execution_count": 40,
   "metadata": {},
   "outputs": [],
   "source": [
    "# different metrics to use for KNN\n",
    "metrics = ['euclidean', 'manhattan', 'minkowski', 'chebyshev', 'cosine']\n",
    "\n",
    "# Test different values of k\n",
    "k_values = range(1, 21)\n",
    "\n",
    "# Store the different models for each metric\n",
    "metrics_models = []"
   ]
  },
  {
   "cell_type": "markdown",
   "metadata": {},
   "source": [
    "# Tuning Hyper Parameters"
   ]
  },
  {
   "cell_type": "code",
   "execution_count": 41,
   "metadata": {},
   "outputs": [
    {
     "name": "stdout",
     "output_type": "stream",
     "text": [
      "k=1 metric=euclidean p=2 accuracy=1.0\n",
      "k=2 metric=euclidean p=2 accuracy=0.9666666666666667\n",
      "k=3 metric=euclidean p=2 accuracy=1.0\n",
      "k=4 metric=euclidean p=2 accuracy=1.0\n",
      "k=5 metric=euclidean p=2 accuracy=1.0\n",
      "k=6 metric=euclidean p=2 accuracy=1.0\n",
      "k=7 metric=euclidean p=2 accuracy=1.0\n",
      "k=8 metric=euclidean p=2 accuracy=1.0\n",
      "k=9 metric=euclidean p=2 accuracy=1.0\n",
      "k=10 metric=euclidean p=2 accuracy=1.0\n",
      "k=11 metric=euclidean p=2 accuracy=1.0\n",
      "k=12 metric=euclidean p=2 accuracy=1.0\n",
      "k=13 metric=euclidean p=2 accuracy=1.0\n",
      "k=14 metric=euclidean p=2 accuracy=1.0\n",
      "k=15 metric=euclidean p=2 accuracy=1.0\n",
      "k=16 metric=euclidean p=2 accuracy=1.0\n",
      "k=17 metric=euclidean p=2 accuracy=1.0\n",
      "k=18 metric=euclidean p=2 accuracy=1.0\n",
      "k=19 metric=euclidean p=2 accuracy=1.0\n",
      "k=20 metric=euclidean p=2 accuracy=1.0\n",
      "k=1 metric=manhattan p=2 accuracy=1.0\n",
      "k=2 metric=manhattan p=2 accuracy=0.9666666666666667\n",
      "k=3 metric=manhattan p=2 accuracy=1.0\n",
      "k=4 metric=manhattan p=2 accuracy=1.0\n",
      "k=5 metric=manhattan p=2 accuracy=1.0\n",
      "k=6 metric=manhattan p=2 accuracy=1.0\n",
      "k=7 metric=manhattan p=2 accuracy=1.0\n",
      "k=8 metric=manhattan p=2 accuracy=1.0\n",
      "k=9 metric=manhattan p=2 accuracy=1.0\n",
      "k=10 metric=manhattan p=2 accuracy=1.0\n",
      "k=11 metric=manhattan p=2 accuracy=1.0\n",
      "k=12 metric=manhattan p=2 accuracy=1.0\n",
      "k=13 metric=manhattan p=2 accuracy=1.0\n",
      "k=14 metric=manhattan p=2 accuracy=1.0\n",
      "k=15 metric=manhattan p=2 accuracy=1.0\n",
      "k=16 metric=manhattan p=2 accuracy=1.0\n",
      "k=17 metric=manhattan p=2 accuracy=1.0\n",
      "k=18 metric=manhattan p=2 accuracy=1.0\n",
      "k=19 metric=manhattan p=2 accuracy=1.0\n",
      "k=20 metric=manhattan p=2 accuracy=1.0\n",
      "k=1 metric=minkowski p=3 accuracy=1.0\n",
      "k=2 metric=minkowski p=3 accuracy=0.9666666666666667\n",
      "k=3 metric=minkowski p=3 accuracy=1.0\n",
      "k=4 metric=minkowski p=3 accuracy=1.0\n",
      "k=5 metric=minkowski p=3 accuracy=1.0\n",
      "k=6 metric=minkowski p=3 accuracy=1.0\n",
      "k=7 metric=minkowski p=3 accuracy=1.0\n",
      "k=8 metric=minkowski p=3 accuracy=1.0\n",
      "k=9 metric=minkowski p=3 accuracy=1.0\n",
      "k=10 metric=minkowski p=3 accuracy=1.0\n",
      "k=11 metric=minkowski p=3 accuracy=1.0\n",
      "k=12 metric=minkowski p=3 accuracy=1.0\n",
      "k=13 metric=minkowski p=3 accuracy=1.0\n",
      "k=14 metric=minkowski p=3 accuracy=1.0\n",
      "k=15 metric=minkowski p=3 accuracy=1.0\n",
      "k=16 metric=minkowski p=3 accuracy=1.0\n",
      "k=17 metric=minkowski p=3 accuracy=1.0\n",
      "k=18 metric=minkowski p=3 accuracy=1.0\n",
      "k=19 metric=minkowski p=3 accuracy=1.0\n",
      "k=20 metric=minkowski p=3 accuracy=1.0\n",
      "k=1 metric=chebyshev p=2 accuracy=1.0\n",
      "k=2 metric=chebyshev p=2 accuracy=1.0\n",
      "k=3 metric=chebyshev p=2 accuracy=1.0\n",
      "k=4 metric=chebyshev p=2 accuracy=1.0\n",
      "k=5 metric=chebyshev p=2 accuracy=1.0\n",
      "k=6 metric=chebyshev p=2 accuracy=1.0\n",
      "k=7 metric=chebyshev p=2 accuracy=1.0\n",
      "k=8 metric=chebyshev p=2 accuracy=1.0\n",
      "k=9 metric=chebyshev p=2 accuracy=1.0\n",
      "k=10 metric=chebyshev p=2 accuracy=1.0\n",
      "k=11 metric=chebyshev p=2 accuracy=1.0\n",
      "k=12 metric=chebyshev p=2 accuracy=1.0\n",
      "k=13 metric=chebyshev p=2 accuracy=1.0\n",
      "k=14 metric=chebyshev p=2 accuracy=1.0\n",
      "k=15 metric=chebyshev p=2 accuracy=1.0\n",
      "k=16 metric=chebyshev p=2 accuracy=1.0\n",
      "k=17 metric=chebyshev p=2 accuracy=1.0\n",
      "k=18 metric=chebyshev p=2 accuracy=1.0\n",
      "k=19 metric=chebyshev p=2 accuracy=1.0\n",
      "k=20 metric=chebyshev p=2 accuracy=1.0\n",
      "k=1 metric=cosine p=2 accuracy=0.8\n",
      "k=2 metric=cosine p=2 accuracy=0.7666666666666667\n",
      "k=3 metric=cosine p=2 accuracy=0.8\n",
      "k=4 metric=cosine p=2 accuracy=0.8333333333333334\n",
      "k=5 metric=cosine p=2 accuracy=0.8666666666666667\n",
      "k=6 metric=cosine p=2 accuracy=0.8666666666666667\n",
      "k=7 metric=cosine p=2 accuracy=0.8666666666666667\n",
      "k=8 metric=cosine p=2 accuracy=0.8666666666666667\n",
      "k=9 metric=cosine p=2 accuracy=0.8333333333333334\n",
      "k=10 metric=cosine p=2 accuracy=0.8\n",
      "k=11 metric=cosine p=2 accuracy=0.8\n",
      "k=12 metric=cosine p=2 accuracy=0.8\n",
      "k=13 metric=cosine p=2 accuracy=0.8\n",
      "k=14 metric=cosine p=2 accuracy=0.8\n",
      "k=15 metric=cosine p=2 accuracy=0.8\n",
      "k=16 metric=cosine p=2 accuracy=0.8\n",
      "k=17 metric=cosine p=2 accuracy=0.8\n",
      "k=18 metric=cosine p=2 accuracy=0.8\n",
      "k=19 metric=cosine p=2 accuracy=0.8\n",
      "k=20 metric=cosine p=2 accuracy=0.8\n"
     ]
    }
   ],
   "source": [
    "max_accuracy_all = 0\n",
    "best_model_all = None\n",
    "\n",
    "for metric in metrics:\n",
    "    if metric == 'minkowski':\n",
    "        p = 3\n",
    "    else :\n",
    "        # default value for p\n",
    "        p = 2\n",
    "\n",
    "    max_accuracy = 0\n",
    "    best_model = None\n",
    "\n",
    "    for k in k_values:\n",
    "        knn = KNeighborsClassifier(n_neighbors=k , metric=metric, p=p)\n",
    "        knn.fit(X_train, y_train)\n",
    "        y_pred = knn.predict(X_test)\n",
    "        accuracy = accuracy_score(y_test, y_pred)\n",
    "        if ( accuracy > max_accuracy):\n",
    "            max_accuracy = accuracy\n",
    "            best_model = knn\n",
    "        print(f'k={k} metric={metric} p={p} accuracy={accuracy}')\n",
    "\n",
    "    if (max_accuracy > max_accuracy_all):\n",
    "        max_accuracy_all = max_accuracy\n",
    "        best_model_all = best_model"
   ]
  },
  {
   "cell_type": "code",
   "execution_count": 42,
   "metadata": {},
   "outputs": [
    {
     "name": "stdout",
     "output_type": "stream",
     "text": [
      "Best model: KNeighborsClassifier(metric='euclidean', n_neighbors=1) with accuracy: 1.0\n"
     ]
    }
   ],
   "source": [
    "print(f'Best model: {best_model_all} with accuracy: {max_accuracy_all}')"
   ]
  }
 ],
 "metadata": {
  "kernelspec": {
   "display_name": "Python 3",
   "language": "python",
   "name": "python3"
  },
  "language_info": {
   "codemirror_mode": {
    "name": "ipython",
    "version": 3
   },
   "file_extension": ".py",
   "mimetype": "text/x-python",
   "name": "python",
   "nbconvert_exporter": "python",
   "pygments_lexer": "ipython3",
   "version": "3.12.4"
  }
 },
 "nbformat": 4,
 "nbformat_minor": 2
}
